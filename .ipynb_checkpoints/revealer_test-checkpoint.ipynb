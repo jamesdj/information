{
 "cells": [
  {
   "cell_type": "code",
   "execution_count": 5,
   "metadata": {},
   "outputs": [
    {
     "name": "stdout",
     "output_type": "stream",
     "text": [
      "The autoreload extension is already loaded. To reload it, use:\n",
      "  %reload_ext autoreload\n"
     ]
    },
    {
     "ename": "ImportError",
     "evalue": "attempted relative import with no known parent package",
     "output_type": "error",
     "traceback": [
      "\u001b[0;31m---------------------------------------------------------------------------\u001b[0m",
      "\u001b[0;31mImportError\u001b[0m                               Traceback (most recent call last)",
      "\u001b[0;32m<ipython-input-5-502ab19e0eed>\u001b[0m in \u001b[0;36m<module>\u001b[0;34m()\u001b[0m\n\u001b[1;32m      2\u001b[0m \u001b[0mget_ipython\u001b[0m\u001b[0;34m(\u001b[0m\u001b[0;34m)\u001b[0m\u001b[0;34m.\u001b[0m\u001b[0mmagic\u001b[0m\u001b[0;34m(\u001b[0m\u001b[0;34m'autoreload 2'\u001b[0m\u001b[0;34m)\u001b[0m\u001b[0;34m\u001b[0m\u001b[0m\n\u001b[1;32m      3\u001b[0m \u001b[0mget_ipython\u001b[0m\u001b[0;34m(\u001b[0m\u001b[0;34m)\u001b[0m\u001b[0;34m.\u001b[0m\u001b[0mmagic\u001b[0m\u001b[0;34m(\u001b[0m\u001b[0;34m'matplotlib inline'\u001b[0m\u001b[0;34m)\u001b[0m\u001b[0;34m\u001b[0m\u001b[0m\n\u001b[0;32m----> 4\u001b[0;31m \u001b[0;32mfrom\u001b[0m \u001b[0mrevealer\u001b[0m \u001b[0;32mimport\u001b[0m \u001b[0;34m*\u001b[0m\u001b[0;34m\u001b[0m\u001b[0m\n\u001b[0m",
      "\u001b[0;32m/home/jamesdj/Dropbox/toolbox/information/revealer.py\u001b[0m in \u001b[0;36m<module>\u001b[0;34m()\u001b[0m\n\u001b[1;32m      9\u001b[0m \u001b[0;32mimport\u001b[0m \u001b[0mmatplotlib\u001b[0m\u001b[0;34m.\u001b[0m\u001b[0mpyplot\u001b[0m \u001b[0;32mas\u001b[0m \u001b[0mplt\u001b[0m\u001b[0;34m\u001b[0m\u001b[0m\n\u001b[1;32m     10\u001b[0m \u001b[0;34m\u001b[0m\u001b[0m\n\u001b[0;32m---> 11\u001b[0;31m \u001b[0;32mfrom\u001b[0m \u001b[0;34m.\u001b[0m\u001b[0minformation\u001b[0m \u001b[0;32mimport\u001b[0m \u001b[0mcompute_ic\u001b[0m\u001b[0;34m\u001b[0m\u001b[0m\n\u001b[0m\u001b[1;32m     12\u001b[0m \u001b[0;34m\u001b[0m\u001b[0m\n\u001b[1;32m     13\u001b[0m \u001b[0;34m\u001b[0m\u001b[0m\n",
      "\u001b[0;31mImportError\u001b[0m: attempted relative import with no known parent package"
     ]
    }
   ],
   "source": [
    "%load_ext autoreload\n",
    "%autoreload 2\n",
    "%matplotlib inline\n",
    "from revealer import *"
   ]
  },
  {
   "cell_type": "code",
   "execution_count": 38,
   "metadata": {
    "collapsed": true
   },
   "outputs": [],
   "source": [
    "t = pd.Series(np.arange(10)[::-1], name='t')\n",
    "t /= t.max()\n",
    "s = pd.Series([1, 0, 1, 0, 1, 0, 0, 0, 0, 0], name='s')\n",
    "u = pd.Series([0, 1, 0, 0, 0, 0, 0, 0, 0, 0], name='u')\n",
    "v = pd.Series([0, 0, 0, 1, 0, 0, 0, 0, 0, 0], name='v')\n",
    "w = pd.Series([0, 0, 0, 0, 0, 4, 0, 2, 0, 0], name='w') / 9\n",
    "x = pd.Series([0, 0, 0, 0, 0, 0, 1, 0, 1, 0], name='x')\n",
    "features = pd.concat([s, u, v, w, x], axis=1)"
   ]
  },
  {
   "cell_type": "code",
   "execution_count": 39,
   "metadata": {},
   "outputs": [
    {
     "name": "stdout",
     "output_type": "stream",
     "text": [
      "iter 1\n",
      "Summary IC: 0.496\n",
      "iter 2\n",
      "Summary IC: 0.71\n",
      "iter 3\n",
      "Summary IC: 0.818\n",
      "iter 4\n"
     ]
    }
   ],
   "source": [
    "selected = revealer(t, features, combine='auto')"
   ]
  },
  {
   "cell_type": "code",
   "execution_count": 40,
   "metadata": {},
   "outputs": [
    {
     "data": {
      "image/png": "[encoded data removed]",
      "text/plain": [
       "<matplotlib.figure.Figure at 0x7f2b7bb91080>"
      ]
     },
     "metadata": {},
     "output_type": "display_data"
    }
   ],
   "source": [
    "plot_matches(t, features, selected)"
   ]
  },
  {
   "cell_type": "code",
   "execution_count": 26,
   "metadata": {
    "collapsed": true
   },
   "outputs": [],
   "source": [
    "viab_redux_stds = load_pdx_drug_response(form='std', redux=True)\n",
    "nneg_std_redux = viab_redux_stds.loc[:, ge1_sbis].clip(lower=0.0)\n",
    "scaled = nneg_std_redux.loc[:, ge1_sbis].clip(lower=0.0)"
   ]
  },
  {
   "cell_type": "code",
   "execution_count": 27,
   "metadata": {},
   "outputs": [
    {
     "data": {
      "text/html": [
       "<div>\n",
       "<style>\n",
       "    .dataframe thead tr:only-child th {\n",
       "        text-align: right;\n",
       "    }\n",
       "\n",
       "    .dataframe thead th {\n",
       "        text-align: left;\n",
       "    }\n",
       "\n",
       "    .dataframe tbody tr th {\n",
       "        vertical-align: top;\n",
       "    }\n",
       "</style>\n",
       "<table border=\"1\" class=\"dataframe\">\n",
       "  <thead>\n",
       "    <tr style=\"text-align: right;\">\n",
       "      <th></th>\n",
       "      <th>0</th>\n",
       "      <th>1</th>\n",
       "      <th>2</th>\n",
       "    </tr>\n",
       "  </thead>\n",
       "  <tbody>\n",
       "    <tr>\n",
       "      <th>MB009</th>\n",
       "      <td>2.353755</td>\n",
       "      <td>1.321070</td>\n",
       "      <td>1.961160</td>\n",
       "    </tr>\n",
       "    <tr>\n",
       "      <th>ICB1299</th>\n",
       "      <td>1.596445</td>\n",
       "      <td>2.533875</td>\n",
       "      <td>1.938093</td>\n",
       "    </tr>\n",
       "    <tr>\n",
       "      <th>RCMB18</th>\n",
       "      <td>3.704582</td>\n",
       "      <td>0.058132</td>\n",
       "      <td>1.014612</td>\n",
       "    </tr>\n",
       "    <tr>\n",
       "      <th>ICB1572</th>\n",
       "      <td>1.542232</td>\n",
       "      <td>2.990058</td>\n",
       "      <td>1.137913</td>\n",
       "    </tr>\n",
       "    <tr>\n",
       "      <th>DMB006</th>\n",
       "      <td>0.053651</td>\n",
       "      <td>0.901650</td>\n",
       "      <td>3.845749</td>\n",
       "    </tr>\n",
       "    <tr>\n",
       "      <th>MED1712</th>\n",
       "      <td>1.893163</td>\n",
       "      <td>1.815528</td>\n",
       "      <td>1.691199</td>\n",
       "    </tr>\n",
       "    <tr>\n",
       "      <th>RCMB24</th>\n",
       "      <td>1.830271</td>\n",
       "      <td>0.762820</td>\n",
       "      <td>2.430373</td>\n",
       "    </tr>\n",
       "    <tr>\n",
       "      <th>MED1911</th>\n",
       "      <td>1.942901</td>\n",
       "      <td>0.627744</td>\n",
       "      <td>2.988874</td>\n",
       "    </tr>\n",
       "    <tr>\n",
       "      <th>RCMB20</th>\n",
       "      <td>3.166506</td>\n",
       "      <td>1.557453</td>\n",
       "      <td>1.100469</td>\n",
       "    </tr>\n",
       "    <tr>\n",
       "      <th>RCMB28</th>\n",
       "      <td>2.445033</td>\n",
       "      <td>2.652172</td>\n",
       "      <td>1.128375</td>\n",
       "    </tr>\n",
       "    <tr>\n",
       "      <th>MB002</th>\n",
       "      <td>3.182779</td>\n",
       "      <td>1.920882</td>\n",
       "      <td>0.778044</td>\n",
       "    </tr>\n",
       "    <tr>\n",
       "      <th>MED2312</th>\n",
       "      <td>1.095543</td>\n",
       "      <td>0.736461</td>\n",
       "      <td>2.720867</td>\n",
       "    </tr>\n",
       "    <tr>\n",
       "      <th>MED411</th>\n",
       "      <td>2.229913</td>\n",
       "      <td>2.498411</td>\n",
       "      <td>1.466237</td>\n",
       "    </tr>\n",
       "    <tr>\n",
       "      <th>RCMB40</th>\n",
       "      <td>2.184839</td>\n",
       "      <td>1.825616</td>\n",
       "      <td>1.595410</td>\n",
       "    </tr>\n",
       "    <tr>\n",
       "      <th>RCMB32</th>\n",
       "      <td>1.614620</td>\n",
       "      <td>0.617573</td>\n",
       "      <td>2.874381</td>\n",
       "    </tr>\n",
       "    <tr>\n",
       "      <th>RCMB38</th>\n",
       "      <td>0.291968</td>\n",
       "      <td>0.095693</td>\n",
       "      <td>3.892077</td>\n",
       "    </tr>\n",
       "    <tr>\n",
       "      <th>ICB1487</th>\n",
       "      <td>0.234304</td>\n",
       "      <td>0.061112</td>\n",
       "      <td>3.198223</td>\n",
       "    </tr>\n",
       "    <tr>\n",
       "      <th>ICB984</th>\n",
       "      <td>4.442142</td>\n",
       "      <td>0.047148</td>\n",
       "      <td>0.206541</td>\n",
       "    </tr>\n",
       "    <tr>\n",
       "      <th>BT084</th>\n",
       "      <td>3.815650</td>\n",
       "      <td>0.037211</td>\n",
       "      <td>0.956137</td>\n",
       "    </tr>\n",
       "    <tr>\n",
       "      <th>MED211</th>\n",
       "      <td>1.853140</td>\n",
       "      <td>3.249106</td>\n",
       "      <td>0.757438</td>\n",
       "    </tr>\n",
       "  </tbody>\n",
       "</table>\n",
       "</div>"
      ],
      "text/plain": [
       "                0         1         2\n",
       "MB009    2.353755  1.321070  1.961160\n",
       "ICB1299  1.596445  2.533875  1.938093\n",
       "RCMB18   3.704582  0.058132  1.014612\n",
       "ICB1572  1.542232  2.990058  1.137913\n",
       "DMB006   0.053651  0.901650  3.845749\n",
       "MED1712  1.893163  1.815528  1.691199\n",
       "RCMB24   1.830271  0.762820  2.430373\n",
       "MED1911  1.942901  0.627744  2.988874\n",
       "RCMB20   3.166506  1.557453  1.100469\n",
       "RCMB28   2.445033  2.652172  1.128375\n",
       "MB002    3.182779  1.920882  0.778044\n",
       "MED2312  1.095543  0.736461  2.720867\n",
       "MED411   2.229913  2.498411  1.466237\n",
       "RCMB40   2.184839  1.825616  1.595410\n",
       "RCMB32   1.614620  0.617573  2.874381\n",
       "RCMB38   0.291968  0.095693  3.892077\n",
       "ICB1487  0.234304  0.061112  3.198223\n",
       "ICB984   4.442142  0.047148  0.206541\n",
       "BT084    3.815650  0.037211  0.956137\n",
       "MED211   1.853140  3.249106  0.757438"
      ]
     },
     "execution_count": 27,
     "metadata": {},
     "output_type": "execute_result"
    }
   ],
   "source": [
    "model_file3 = '/home/jamesdj/Dropbox/notebooks/pdx/cluster_by_drug_response/ge1/bayes/chibs/models/5M/k3.pkl'\n",
    "bnmf3 = pickle.load(open(model_file3, 'rb'))\n",
    "w = pd.DataFrame(bnmf3.bases_[:, [0, 2, 1]], index=scaled.index)\n",
    "w"
   ]
  },
  {
   "cell_type": "code",
   "execution_count": 32,
   "metadata": {
    "collapsed": true
   },
   "outputs": [],
   "source": [
    "c1 = w.loc[alpha_twenty_samples].iloc[:, 0]\n",
    "c2 = w.loc[alpha_twenty_samples].iloc[:, 1]\n",
    "c3 = w.loc[alpha_twenty_samples].iloc[:, 2]"
   ]
  },
  {
   "cell_type": "code",
   "execution_count": 28,
   "metadata": {},
   "outputs": [
    {
     "name": "stdout",
     "output_type": "stream",
     "text": [
      "iter 1\n",
      "Summary IC: 0.719\n",
      "iter 2\n",
      "Summary IC: 0.794\n",
      "iter 3\n"
     ]
    }
   ],
   "source": [
    "mut_rev = revealer(c1, pdx_mut.loc[alpha_twenty_samples])\n",
    "plot_matches(c1, pdx_mut, mut_rev)"
   ]
  },
  {
   "cell_type": "markdown",
   "metadata": {},
   "source": [
    "Have I not updated the mutations used to match the components? Probably not..."
   ]
  },
  {
   "cell_type": "code",
   "execution_count": 34,
   "metadata": {},
   "outputs": [
    {
     "name": "stdout",
     "output_type": "stream",
     "text": [
      "iter 1\n",
      "Summary IC: 0.447\n",
      "iter 2\n",
      "Summary IC: 0.547\n",
      "iter 3\n"
     ]
    }
   ],
   "source": [
    "mut_rev = revealer(c2, pdx_mut.loc[alpha_twenty_samples])\n",
    "plot_matches(c2, pdx_mut, mut_rev)"
   ]
  },
  {
   "cell_type": "code",
   "execution_count": 36,
   "metadata": {},
   "outputs": [
    {
     "name": "stdout",
     "output_type": "stream",
     "text": [
      "iter 1\n",
      "Summary IC: 0.44\n",
      "iter 2\n",
      "Summary IC: 0.542\n",
      "iter 3\n",
      "Summary IC: 0.63\n",
      "iter 4\n",
      "Summary IC: 0.731\n",
      "iter 5\n"
     ]
    },
    {
     "data": {
      "image/png": "[encoded data removed]",
      "text/plain": [
       "<matplotlib.figure.Figure at 0x7f2b796cf6d8>"
      ]
     },
     "metadata": {},
     "output_type": "display_data"
    }
   ],
   "source": [
    "mut_rev = revealer(c3, pdx_mut.loc[alpha_twenty_samples])\n",
    "plot_matches(c3, pdx_mut, mut_rev)"
   ]
  },
  {
   "cell_type": "markdown",
   "metadata": {},
   "source": [
    "Todo: \n",
    "- compare old code to new Ted code\n",
    "- is our meeting rescheduled?\n",
    "- Pablo says don't bother with R code...\n",
    "- FDR for top hits\n",
    "- NMF clustering of top hits and visualization\n",
    "- return or plot summary scores\n",
    "- precompute bandwidths for all variables"
   ]
  }
 ],
 "metadata": {
  "kernelspec": {
   "display_name": "Python 3",
   "language": "python",
   "name": "python3"
  },
  "language_info": {
   "codemirror_mode": {
    "name": "ipython",
    "version": 3
   },
   "file_extension": ".py",
   "mimetype": "text/x-python",
   "name": "python",
   "nbconvert_exporter": "python",
   "pygments_lexer": "ipython3",
   "version": "3.6.1"
  }
 },
 "nbformat": 4,
 "nbformat_minor": 2
}

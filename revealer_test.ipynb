{
 "cells": [
  {
   "cell_type": "code",
   "execution_count": 1,
   "metadata": {},
   "outputs": [
    {
     "name": "stdout",
     "output_type": "stream",
     "text": [
      "The autoreload extension is already loaded. To reload it, use:\n",
      "  %reload_ext autoreload\n"
     ]
    }
   ],
   "source": [
    "%load_ext autoreload\n",
    "%autoreload 2\n",
    "%matplotlib inline\n",
    "from information.revealer import *"
   ]
  },
  {
   "cell_type": "code",
   "execution_count": 2,
   "metadata": {
    "collapsed": true
   },
   "outputs": [],
   "source": [
    "t = pd.Series(np.arange(10)[::-1], name='t', dtype=float)\n",
    "#t /= t.max()\n",
    "s = pd.Series([1, 0, 1, 0, 1, 0, 0, 0, 0, 0], name='s')\n",
    "u = pd.Series([0, 1, 0, 0, 0, 0, 0, 0, 0, 0], name='u')\n",
    "v = pd.Series([0, 0, 0, 1, 0, 0, 0, 0, 0, 0], name='v')\n",
    "w = pd.Series([0, 0, 0, 0, 0, 4, 0, 2, 0, 0], name='w') / 9\n",
    "x = pd.Series([0, 0, 0, 0, 0, 0, 1, 0, 1, 0], name='x')\n",
    "#y = pd.Series(np.random.normal(size=10), name='y')\n",
    "#q = pd.Series(np.random.normal(size=10), name='q')\n",
    "#r = pd.Series(np.random.normal(size=10), name='r')\n",
    "#z = pd.Series([0, 0, 0, 0, 0, 0, 1, 0, 1, 0], name='z') # identical to x\n",
    "features = pd.concat([s, u, v, w, x], axis=1)"
   ]
  },
  {
   "cell_type": "code",
   "execution_count": 3,
   "metadata": {},
   "outputs": [
    {
     "data": {
      "image/png": "[encoded data removed]",
      "text/plain": [
       "<matplotlib.figure.Figure at 0x7f0a83705208>"
      ]
     },
     "metadata": {},
     "output_type": "display_data"
    }
   ],
   "source": [
    "selected, ics = revealer(t, features, combine_first=True, combine='auto')\n",
    "fig = plot_matches(t, features, selected, ics)"
   ]
  },
  {
   "cell_type": "code",
   "execution_count": 6,
   "metadata": {},
   "outputs": [
    {
     "data": {
      "image/png": "[encoded data removed]",
      "text/plain": [
       "<matplotlib.figure.Figure at 0x7f0a81d7e7f0>"
      ]
     },
     "metadata": {},
     "output_type": "display_data"
    }
   ],
   "source": [
    "pvals = revealer_pvals(ics, t, features, selected, n_permutations=100)\n",
    "fig = plot_matches(t, features, selected, ics, pvals)"
   ]
  },
  {
   "cell_type": "markdown",
   "metadata": {},
   "source": [
    "### Combining before (IC) vs. after (CIC)"
   ]
  },
  {
   "cell_type": "code",
   "execution_count": 5,
   "metadata": {
    "collapsed": true
   },
   "outputs": [],
   "source": [
    "x = np.random.normal(size=100)\n",
    "y = np.random.normal(size=100)\n",
    "z = np.random.normal(size=100)"
   ]
  },
  {
   "cell_type": "code",
   "execution_count": 8,
   "metadata": {},
   "outputs": [
    {
     "name": "stdout",
     "output_type": "stream",
     "text": [
      "10 loops, best of 3: 52 ms per loop\n"
     ]
    }
   ],
   "source": [
    "ic_time = %timeit -o compute_ic(x, y)"
   ]
  },
  {
   "cell_type": "code",
   "execution_count": 13,
   "metadata": {},
   "outputs": [
    {
     "name": "stdout",
     "output_type": "stream",
     "text": [
      "1 loop, best of 3: 1.57 s per loop\n"
     ]
    }
   ],
   "source": [
    "cic_time = %timeit -o compute_ic(x, y, z=z)"
   ]
  },
  {
   "cell_type": "code",
   "execution_count": 14,
   "metadata": {},
   "outputs": [
    {
     "data": {
      "text/plain": [
       "2.97761241436528"
      ]
     },
     "execution_count": 14,
     "metadata": {},
     "output_type": "execute_result"
    }
   ],
   "source": [
    "np.mean(cic_time.all_runs) / np.mean(ic_time.all_runs)"
   ]
  },
  {
   "cell_type": "markdown",
   "metadata": {},
   "source": [
    "So CIC takes about 3x as long as IC here."
   ]
  },
  {
   "cell_type": "code",
   "execution_count": 15,
   "metadata": {},
   "outputs": [
    {
     "name": "stdout",
     "output_type": "stream",
     "text": [
      "1 loop, best of 3: 534 ms per loop\n"
     ]
    }
   ],
   "source": [
    "cfirst_time = %timeit -o selected, ics = revealer(t, features, combine_first=True, combine='auto')"
   ]
  },
  {
   "cell_type": "code",
   "execution_count": 16,
   "metadata": {},
   "outputs": [
    {
     "name": "stdout",
     "output_type": "stream",
     "text": [
      "1 loop, best of 3: 3.83 s per loop\n"
     ]
    }
   ],
   "source": [
    "clast_time = %timeit -o selected, ics = revealer(t, features, combine_first=False, combine='auto')"
   ]
  },
  {
   "cell_type": "code",
   "execution_count": 17,
   "metadata": {},
   "outputs": [
    {
     "data": {
      "text/plain": [
       "6.8108331432719726"
      ]
     },
     "execution_count": 17,
     "metadata": {},
     "output_type": "execute_result"
    }
   ],
   "source": [
    "np.mean(clast_time.all_runs) / np.mean(cfirst_time.all_runs)"
   ]
  },
  {
   "cell_type": "markdown",
   "metadata": {},
   "source": [
    "So combining before is ~7 times faster when applicable"
   ]
  }
 ],
 "metadata": {
  "kernelspec": {
   "display_name": "Python 3",
   "language": "python",
   "name": "python3"
  },
  "language_info": {
   "codemirror_mode": {
    "name": "ipython",
    "version": 3
   },
   "file_extension": ".py",
   "mimetype": "text/x-python",
   "name": "python",
   "nbconvert_exporter": "python",
   "pygments_lexer": "ipython3",
   "version": "3.6.1"
  }
 },
 "nbformat": 4,
 "nbformat_minor": 2
}

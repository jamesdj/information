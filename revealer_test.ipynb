{
 "cells": [
  {
   "cell_type": "code",
   "execution_count": 1,
   "metadata": {},
   "outputs": [
    {
     "name": "stdout",
     "output_type": "stream",
     "text": [
      "The autoreload extension is already loaded. To reload it, use:\n",
      "  %reload_ext autoreload\n"
     ]
    }
   ],
   "source": [
    "%load_ext autoreload\n",
    "%autoreload 2\n",
    "%matplotlib inline\n",
    "from information.revealer import *"
   ]
  },
  {
   "cell_type": "code",
   "execution_count": 2,
   "metadata": {
    "collapsed": true
   },
   "outputs": [],
   "source": [
    "t = pd.Series(np.arange(10)[::-1], name='t')\n",
    "t /= t.max()\n",
    "s = pd.Series([1, 0, 1, 0, 1, 0, 0, 0, 0, 0], name='s')\n",
    "u = pd.Series([0, 1, 0, 0, 0, 0, 0, 0, 0, 0], name='u')\n",
    "v = pd.Series([0, 0, 0, 1, 0, 0, 0, 0, 0, 0], name='v')\n",
    "w = pd.Series([0, 0, 0, 0, 0, 4, 0, 2, 0, 0], name='w') / 9\n",
    "x = pd.Series([0, 0, 0, 0, 0, 0, 1, 0, 1, 0], name='x')\n",
    "features = pd.concat([s, u, v, w, x], axis=1)"
   ]
  },
  {
   "cell_type": "code",
   "execution_count": 3,
   "metadata": {},
   "outputs": [
    {
     "name": "stdout",
     "output_type": "stream",
     "text": [
      "iter 1\n",
      "Summary IC: 0.496\n",
      "iter 2\n",
      "Summary IC: 0.71\n",
      "iter 3\n",
      "Summary IC: 0.818\n",
      "iter 4\n"
     ]
    }
   ],
   "source": [
    "selected = revealer(t, features, combine='auto')"
   ]
  },
  {
   "cell_type": "code",
   "execution_count": 10,
   "metadata": {},
   "outputs": [
    {
     "data": {
      "image/png": "[encoded data removed]",
      "text/plain": [
       "<matplotlib.figure.Figure at 0x7f49284ae2e8>"
      ]
     },
     "metadata": {},
     "output_type": "display_data"
    }
   ],
   "source": [
    "plot_matches(t, features, selected)"
   ]
  }
 ],
 "metadata": {
  "kernelspec": {
   "display_name": "Python 3",
   "language": "python",
   "name": "python3"
  },
  "language_info": {
   "codemirror_mode": {
    "name": "ipython",
    "version": 3
   },
   "file_extension": ".py",
   "mimetype": "text/x-python",
   "name": "python",
   "nbconvert_exporter": "python",
   "pygments_lexer": "ipython3",
   "version": "3.6.1"
  }
 },
 "nbformat": 4,
 "nbformat_minor": 2
}
